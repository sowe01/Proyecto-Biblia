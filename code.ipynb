{
 "cells": [
  {
   "cell_type": "markdown",
   "metadata": {},
   "source": [
    "## importo las librerias que voy a necesitar"
   ]
  },
  {
   "cell_type": "code",
   "execution_count": 1,
   "metadata": {},
   "outputs": [],
   "source": [
    "import numpy as np\n",
    "import pandas as pd"
   ]
  },
  {
   "cell_type": "markdown",
   "metadata": {},
   "source": [
    "## Importo el dataset: 'training_dataset' "
   ]
  },
  {
   "cell_type": "code",
   "execution_count": 2,
   "metadata": {},
   "outputs": [
    {
     "data": {
      "text/html": [
       "<div>\n",
       "<style scoped>\n",
       "    .dataframe tbody tr th:only-of-type {\n",
       "        vertical-align: middle;\n",
       "    }\n",
       "\n",
       "    .dataframe tbody tr th {\n",
       "        vertical-align: top;\n",
       "    }\n",
       "\n",
       "    .dataframe thead th {\n",
       "        text-align: right;\n",
       "    }\n",
       "</style>\n",
       "<table border=\"1\" class=\"dataframe\">\n",
       "  <thead>\n",
       "    <tr style=\"text-align: right;\">\n",
       "      <th></th>\n",
       "      <th>id</th>\n",
       "      <th>0</th>\n",
       "      <th>1</th>\n",
       "      <th>2</th>\n",
       "      <th>3</th>\n",
       "      <th>4</th>\n",
       "      <th>5</th>\n",
       "      <th>6</th>\n",
       "      <th>7</th>\n",
       "      <th>8</th>\n",
       "      <th>9</th>\n",
       "      <th>author</th>\n",
       "    </tr>\n",
       "  </thead>\n",
       "  <tbody>\n",
       "    <tr>\n",
       "      <th>0</th>\n",
       "      <td>0</td>\n",
       "      <td>0.142636</td>\n",
       "      <td>0.431070</td>\n",
       "      <td>0.032912</td>\n",
       "      <td>-0.486796</td>\n",
       "      <td>0.261718</td>\n",
       "      <td>-1.013906</td>\n",
       "      <td>-0.081827</td>\n",
       "      <td>0.330352</td>\n",
       "      <td>0.438262</td>\n",
       "      <td>-0.761088</td>\n",
       "      <td>Ubuntius</td>\n",
       "    </tr>\n",
       "    <tr>\n",
       "      <th>1</th>\n",
       "      <td>1</td>\n",
       "      <td>0.019197</td>\n",
       "      <td>0.525284</td>\n",
       "      <td>0.068476</td>\n",
       "      <td>0.166658</td>\n",
       "      <td>0.261718</td>\n",
       "      <td>0.231839</td>\n",
       "      <td>0.635431</td>\n",
       "      <td>0.133209</td>\n",
       "      <td>0.313536</td>\n",
       "      <td>-0.002374</td>\n",
       "      <td>Philippus</td>\n",
       "    </tr>\n",
       "    <tr>\n",
       "      <th>2</th>\n",
       "      <td>2</td>\n",
       "      <td>0.093260</td>\n",
       "      <td>-0.087108</td>\n",
       "      <td>-2.268081</td>\n",
       "      <td>-0.164963</td>\n",
       "      <td>0.261718</td>\n",
       "      <td>1.477585</td>\n",
       "      <td>0.635431</td>\n",
       "      <td>-0.370641</td>\n",
       "      <td>0.126447</td>\n",
       "      <td>1.078357</td>\n",
       "      <td>Marcus</td>\n",
       "    </tr>\n",
       "    <tr>\n",
       "      <th>3</th>\n",
       "      <td>3</td>\n",
       "      <td>-0.017834</td>\n",
       "      <td>-0.228430</td>\n",
       "      <td>0.370770</td>\n",
       "      <td>1.293671</td>\n",
       "      <td>0.172340</td>\n",
       "      <td>-0.058835</td>\n",
       "      <td>0.446679</td>\n",
       "      <td>1.609556</td>\n",
       "      <td>2.277968</td>\n",
       "      <td>-0.172339</td>\n",
       "      <td>Clarius</td>\n",
       "    </tr>\n",
       "    <tr>\n",
       "      <th>4</th>\n",
       "      <td>4</td>\n",
       "      <td>0.080916</td>\n",
       "      <td>-0.142067</td>\n",
       "      <td>0.171611</td>\n",
       "      <td>-0.470713</td>\n",
       "      <td>0.261718</td>\n",
       "      <td>-0.141884</td>\n",
       "      <td>-0.044076</td>\n",
       "      <td>0.375551</td>\n",
       "      <td>0.032902</td>\n",
       "      <td>0.009898</td>\n",
       "      <td>Philippus</td>\n",
       "    </tr>\n",
       "  </tbody>\n",
       "</table>\n",
       "</div>"
      ],
      "text/plain": [
       "   id         0         1         2         3         4         5         6  \\\n",
       "0   0  0.142636  0.431070  0.032912 -0.486796  0.261718 -1.013906 -0.081827   \n",
       "1   1  0.019197  0.525284  0.068476  0.166658  0.261718  0.231839  0.635431   \n",
       "2   2  0.093260 -0.087108 -2.268081 -0.164963  0.261718  1.477585  0.635431   \n",
       "3   3 -0.017834 -0.228430  0.370770  1.293671  0.172340 -0.058835  0.446679   \n",
       "4   4  0.080916 -0.142067  0.171611 -0.470713  0.261718 -0.141884 -0.044076   \n",
       "\n",
       "          7         8         9     author  \n",
       "0  0.330352  0.438262 -0.761088   Ubuntius  \n",
       "1  0.133209  0.313536 -0.002374  Philippus  \n",
       "2 -0.370641  0.126447  1.078357     Marcus  \n",
       "3  1.609556  2.277968 -0.172339    Clarius  \n",
       "4  0.375551  0.032902  0.009898  Philippus  "
      ]
     },
     "execution_count": 2,
     "metadata": {},
     "output_type": "execute_result"
    }
   ],
   "source": [
    "data = pd.read_csv('./input/training_dataset.csv')\n",
    "data.head()\n"
   ]
  },
  {
   "cell_type": "code",
   "execution_count": 3,
   "metadata": {},
   "outputs": [
    {
     "data": {
      "text/plain": [
       "id        0\n",
       "0         0\n",
       "1         0\n",
       "2         0\n",
       "3         0\n",
       "4         0\n",
       "5         0\n",
       "6         0\n",
       "7         0\n",
       "8         0\n",
       "9         0\n",
       "author    0\n",
       "dtype: int64"
      ]
     },
     "execution_count": 3,
     "metadata": {},
     "output_type": "execute_result"
    }
   ],
   "source": [
    "data.isna().sum()"
   ]
  },
  {
   "cell_type": "markdown",
   "metadata": {},
   "source": [
    "No tiene nulos !!"
   ]
  },
  {
   "cell_type": "code",
   "execution_count": 4,
   "metadata": {},
   "outputs": [
    {
     "data": {
      "text/html": [
       "<div>\n",
       "<style scoped>\n",
       "    .dataframe tbody tr th:only-of-type {\n",
       "        vertical-align: middle;\n",
       "    }\n",
       "\n",
       "    .dataframe tbody tr th {\n",
       "        vertical-align: top;\n",
       "    }\n",
       "\n",
       "    .dataframe thead th {\n",
       "        text-align: right;\n",
       "    }\n",
       "</style>\n",
       "<table border=\"1\" class=\"dataframe\">\n",
       "  <thead>\n",
       "    <tr style=\"text-align: right;\">\n",
       "      <th></th>\n",
       "      <th>0</th>\n",
       "      <th>1</th>\n",
       "      <th>2</th>\n",
       "      <th>3</th>\n",
       "      <th>4</th>\n",
       "      <th>5</th>\n",
       "      <th>6</th>\n",
       "      <th>7</th>\n",
       "      <th>8</th>\n",
       "      <th>9</th>\n",
       "      <th>author</th>\n",
       "    </tr>\n",
       "    <tr>\n",
       "      <th>id</th>\n",
       "      <th></th>\n",
       "      <th></th>\n",
       "      <th></th>\n",
       "      <th></th>\n",
       "      <th></th>\n",
       "      <th></th>\n",
       "      <th></th>\n",
       "      <th></th>\n",
       "      <th></th>\n",
       "      <th></th>\n",
       "      <th></th>\n",
       "    </tr>\n",
       "  </thead>\n",
       "  <tbody>\n",
       "    <tr>\n",
       "      <th>0</th>\n",
       "      <td>0.142636</td>\n",
       "      <td>0.431070</td>\n",
       "      <td>0.032912</td>\n",
       "      <td>-0.486796</td>\n",
       "      <td>0.261718</td>\n",
       "      <td>-1.013906</td>\n",
       "      <td>-0.081827</td>\n",
       "      <td>0.330352</td>\n",
       "      <td>0.438262</td>\n",
       "      <td>-0.761088</td>\n",
       "      <td>Ubuntius</td>\n",
       "    </tr>\n",
       "    <tr>\n",
       "      <th>1</th>\n",
       "      <td>0.019197</td>\n",
       "      <td>0.525284</td>\n",
       "      <td>0.068476</td>\n",
       "      <td>0.166658</td>\n",
       "      <td>0.261718</td>\n",
       "      <td>0.231839</td>\n",
       "      <td>0.635431</td>\n",
       "      <td>0.133209</td>\n",
       "      <td>0.313536</td>\n",
       "      <td>-0.002374</td>\n",
       "      <td>Philippus</td>\n",
       "    </tr>\n",
       "    <tr>\n",
       "      <th>2</th>\n",
       "      <td>0.093260</td>\n",
       "      <td>-0.087108</td>\n",
       "      <td>-2.268081</td>\n",
       "      <td>-0.164963</td>\n",
       "      <td>0.261718</td>\n",
       "      <td>1.477585</td>\n",
       "      <td>0.635431</td>\n",
       "      <td>-0.370641</td>\n",
       "      <td>0.126447</td>\n",
       "      <td>1.078357</td>\n",
       "      <td>Marcus</td>\n",
       "    </tr>\n",
       "    <tr>\n",
       "      <th>3</th>\n",
       "      <td>-0.017834</td>\n",
       "      <td>-0.228430</td>\n",
       "      <td>0.370770</td>\n",
       "      <td>1.293671</td>\n",
       "      <td>0.172340</td>\n",
       "      <td>-0.058835</td>\n",
       "      <td>0.446679</td>\n",
       "      <td>1.609556</td>\n",
       "      <td>2.277968</td>\n",
       "      <td>-0.172339</td>\n",
       "      <td>Clarius</td>\n",
       "    </tr>\n",
       "    <tr>\n",
       "      <th>4</th>\n",
       "      <td>0.080916</td>\n",
       "      <td>-0.142067</td>\n",
       "      <td>0.171611</td>\n",
       "      <td>-0.470713</td>\n",
       "      <td>0.261718</td>\n",
       "      <td>-0.141884</td>\n",
       "      <td>-0.044076</td>\n",
       "      <td>0.375551</td>\n",
       "      <td>0.032902</td>\n",
       "      <td>0.009898</td>\n",
       "      <td>Philippus</td>\n",
       "    </tr>\n",
       "  </tbody>\n",
       "</table>\n",
       "</div>"
      ],
      "text/plain": [
       "           0         1         2         3         4         5         6  \\\n",
       "id                                                                         \n",
       "0   0.142636  0.431070  0.032912 -0.486796  0.261718 -1.013906 -0.081827   \n",
       "1   0.019197  0.525284  0.068476  0.166658  0.261718  0.231839  0.635431   \n",
       "2   0.093260 -0.087108 -2.268081 -0.164963  0.261718  1.477585  0.635431   \n",
       "3  -0.017834 -0.228430  0.370770  1.293671  0.172340 -0.058835  0.446679   \n",
       "4   0.080916 -0.142067  0.171611 -0.470713  0.261718 -0.141884 -0.044076   \n",
       "\n",
       "           7         8         9     author  \n",
       "id                                           \n",
       "0   0.330352  0.438262 -0.761088   Ubuntius  \n",
       "1   0.133209  0.313536 -0.002374  Philippus  \n",
       "2  -0.370641  0.126447  1.078357     Marcus  \n",
       "3   1.609556  2.277968 -0.172339    Clarius  \n",
       "4   0.375551  0.032902  0.009898  Philippus  "
      ]
     },
     "execution_count": 4,
     "metadata": {},
     "output_type": "execute_result"
    }
   ],
   "source": [
    "#pongo la columna id como indice\n",
    "data = data.set_index(\"id\")\n",
    "data.head()"
   ]
  },
  {
   "cell_type": "code",
   "execution_count": 5,
   "metadata": {},
   "outputs": [
    {
     "name": "stdout",
     "output_type": "stream",
     "text": [
      "0         float64\n",
      "1         float64\n",
      "2         float64\n",
      "3         float64\n",
      "4         float64\n",
      "5         float64\n",
      "6         float64\n",
      "7         float64\n",
      "8         float64\n",
      "9         float64\n",
      "author     object\n",
      "dtype: object\n"
     ]
    }
   ],
   "source": [
    "print(data.dtypes)"
   ]
  },
  {
   "cell_type": "markdown",
   "metadata": {},
   "source": [
    "## Mapa de calor con la matriz de correlacion de las columnas"
   ]
  },
  {
   "cell_type": "code",
   "execution_count": 6,
   "metadata": {},
   "outputs": [],
   "source": [
    "import matplotlib.pyplot as plt\n",
    "import seaborn as sns\n",
    "correlation_matrix = data.corr()\n",
    "correlation_matrix\n",
    "\n",
    "plt.subplots(figsize=(14,6))\n",
    "heat_map = sns.heatmap(correlation_matrix, linewidths=.7, annot = True)"
   ]
  },
  {
   "cell_type": "markdown",
   "metadata": {},
   "source": [
    "No tiene columnas que esten por encima de 0.9, asi que no estan muy relacionadas y se quedan todas"
   ]
  },
  {
   "cell_type": "markdown",
   "metadata": {},
   "source": [
    "## analizo la columna author que es la unica no-numerica\n"
   ]
  },
  {
   "cell_type": "code",
   "execution_count": 7,
   "metadata": {},
   "outputs": [
    {
     "data": {
      "text/plain": [
       "array(['Ubuntius', 'Philippus', 'Marcus', 'Clarius', 'Blanquius',\n",
       "       'FerrumEffractarius', 'Paithonius', 'Ovionicus'], dtype=object)"
      ]
     },
     "execution_count": 7,
     "metadata": {},
     "output_type": "execute_result"
    }
   ],
   "source": [
    "data['author'].unique()"
   ]
  },
  {
   "cell_type": "code",
   "execution_count": 8,
   "metadata": {},
   "outputs": [
    {
     "data": {
      "text/plain": [
       "Marcus                5118\n",
       "Philippus             2345\n",
       "Ovionicus             1303\n",
       "Blanquius             1017\n",
       "Paithonius             643\n",
       "Clarius                623\n",
       "Ubuntius               539\n",
       "FerrumEffractarius     429\n",
       "Name: author, dtype: int64"
      ]
     },
     "execution_count": 8,
     "metadata": {},
     "output_type": "execute_result"
    }
   ],
   "source": [
    "data['author'].value_counts()"
   ]
  },
  {
   "cell_type": "code",
   "execution_count": 9,
   "metadata": {},
   "outputs": [],
   "source": [
    "data.to_csv(\"./output/data.csv\")"
   ]
  },
  {
   "cell_type": "markdown",
   "metadata": {},
   "source": [
    "## importo el text"
   ]
  },
  {
   "cell_type": "code",
   "execution_count": 10,
   "metadata": {},
   "outputs": [
    {
     "data": {
      "text/html": [
       "<div>\n",
       "<style scoped>\n",
       "    .dataframe tbody tr th:only-of-type {\n",
       "        vertical-align: middle;\n",
       "    }\n",
       "\n",
       "    .dataframe tbody tr th {\n",
       "        vertical-align: top;\n",
       "    }\n",
       "\n",
       "    .dataframe thead th {\n",
       "        text-align: right;\n",
       "    }\n",
       "</style>\n",
       "<table border=\"1\" class=\"dataframe\">\n",
       "  <thead>\n",
       "    <tr style=\"text-align: right;\">\n",
       "      <th></th>\n",
       "      <th>0</th>\n",
       "      <th>1</th>\n",
       "      <th>2</th>\n",
       "      <th>3</th>\n",
       "      <th>4</th>\n",
       "      <th>5</th>\n",
       "      <th>6</th>\n",
       "      <th>7</th>\n",
       "      <th>8</th>\n",
       "      <th>9</th>\n",
       "    </tr>\n",
       "    <tr>\n",
       "      <th>id</th>\n",
       "      <th></th>\n",
       "      <th></th>\n",
       "      <th></th>\n",
       "      <th></th>\n",
       "      <th></th>\n",
       "      <th></th>\n",
       "      <th></th>\n",
       "      <th></th>\n",
       "      <th></th>\n",
       "      <th></th>\n",
       "    </tr>\n",
       "  </thead>\n",
       "  <tbody>\n",
       "    <tr>\n",
       "      <th>0</th>\n",
       "      <td>0.019197</td>\n",
       "      <td>0.038511</td>\n",
       "      <td>0.192950</td>\n",
       "      <td>0.323367</td>\n",
       "      <td>0.261718</td>\n",
       "      <td>-0.100360</td>\n",
       "      <td>0.106925</td>\n",
       "      <td>0.463833</td>\n",
       "      <td>0.064084</td>\n",
       "      <td>-0.025146</td>\n",
       "    </tr>\n",
       "    <tr>\n",
       "      <th>1</th>\n",
       "      <td>0.006853</td>\n",
       "      <td>0.462474</td>\n",
       "      <td>-0.016878</td>\n",
       "      <td>0.649795</td>\n",
       "      <td>-1.347089</td>\n",
       "      <td>-0.307984</td>\n",
       "      <td>-0.119577</td>\n",
       "      <td>0.855597</td>\n",
       "      <td>0.375899</td>\n",
       "      <td>-0.092040</td>\n",
       "    </tr>\n",
       "    <tr>\n",
       "      <th>2</th>\n",
       "      <td>0.229043</td>\n",
       "      <td>-0.369751</td>\n",
       "      <td>0.484575</td>\n",
       "      <td>0.250174</td>\n",
       "      <td>0.261718</td>\n",
       "      <td>-0.017310</td>\n",
       "      <td>0.446679</td>\n",
       "      <td>0.232984</td>\n",
       "      <td>-0.123005</td>\n",
       "      <td>-0.126856</td>\n",
       "    </tr>\n",
       "    <tr>\n",
       "      <th>3</th>\n",
       "      <td>-0.104241</td>\n",
       "      <td>-0.055704</td>\n",
       "      <td>0.299642</td>\n",
       "      <td>0.391249</td>\n",
       "      <td>0.172340</td>\n",
       "      <td>0.314889</td>\n",
       "      <td>0.106925</td>\n",
       "      <td>0.220694</td>\n",
       "      <td>0.219991</td>\n",
       "      <td>0.368972</td>\n",
       "    </tr>\n",
       "    <tr>\n",
       "      <th>4</th>\n",
       "      <td>1.043737</td>\n",
       "      <td>-0.401156</td>\n",
       "      <td>0.473906</td>\n",
       "      <td>0.506215</td>\n",
       "      <td>0.261718</td>\n",
       "      <td>0.065740</td>\n",
       "      <td>-0.195078</td>\n",
       "      <td>0.515440</td>\n",
       "      <td>-0.808997</td>\n",
       "      <td>0.315303</td>\n",
       "    </tr>\n",
       "  </tbody>\n",
       "</table>\n",
       "</div>"
      ],
      "text/plain": [
       "           0         1         2         3         4         5         6  \\\n",
       "id                                                                         \n",
       "0   0.019197  0.038511  0.192950  0.323367  0.261718 -0.100360  0.106925   \n",
       "1   0.006853  0.462474 -0.016878  0.649795 -1.347089 -0.307984 -0.119577   \n",
       "2   0.229043 -0.369751  0.484575  0.250174  0.261718 -0.017310  0.446679   \n",
       "3  -0.104241 -0.055704  0.299642  0.391249  0.172340  0.314889  0.106925   \n",
       "4   1.043737 -0.401156  0.473906  0.506215  0.261718  0.065740 -0.195078   \n",
       "\n",
       "           7         8         9  \n",
       "id                                \n",
       "0   0.463833  0.064084 -0.025146  \n",
       "1   0.855597  0.375899 -0.092040  \n",
       "2   0.232984 -0.123005 -0.126856  \n",
       "3   0.220694  0.219991  0.368972  \n",
       "4   0.515440 -0.808997  0.315303  "
      ]
     },
     "execution_count": 10,
     "metadata": {},
     "output_type": "execute_result"
    }
   ],
   "source": [
    "df_test = pd.read_csv(\"./input/test_dataset.csv\", index_col=0)\n",
    "df_test.head()"
   ]
  },
  {
   "cell_type": "code",
   "execution_count": 11,
   "metadata": {},
   "outputs": [
    {
     "data": {
      "text/plain": [
       "0    0\n",
       "1    0\n",
       "2    0\n",
       "3    0\n",
       "4    0\n",
       "5    0\n",
       "6    0\n",
       "7    0\n",
       "8    0\n",
       "9    0\n",
       "dtype: int64"
      ]
     },
     "execution_count": 11,
     "metadata": {},
     "output_type": "execute_result"
    }
   ],
   "source": [
    "df_test.isna().sum()"
   ]
  },
  {
   "cell_type": "code",
   "execution_count": 12,
   "metadata": {},
   "outputs": [],
   "source": [
    "df_test.to_csv(\"./output/df_test.csv\")"
   ]
  },
  {
   "cell_type": "code",
   "execution_count": 13,
   "metadata": {},
   "outputs": [
    {
     "data": {
      "text/html": [
       "<div>\n",
       "<style scoped>\n",
       "    .dataframe tbody tr th:only-of-type {\n",
       "        vertical-align: middle;\n",
       "    }\n",
       "\n",
       "    .dataframe tbody tr th {\n",
       "        vertical-align: top;\n",
       "    }\n",
       "\n",
       "    .dataframe thead th {\n",
       "        text-align: right;\n",
       "    }\n",
       "</style>\n",
       "<table border=\"1\" class=\"dataframe\">\n",
       "  <thead>\n",
       "    <tr style=\"text-align: right;\">\n",
       "      <th></th>\n",
       "      <th>id</th>\n",
       "      <th>author</th>\n",
       "    </tr>\n",
       "  </thead>\n",
       "  <tbody>\n",
       "    <tr>\n",
       "      <th>0</th>\n",
       "      <td>0</td>\n",
       "      <td>FerrumEffractarius</td>\n",
       "    </tr>\n",
       "    <tr>\n",
       "      <th>1</th>\n",
       "      <td>1</td>\n",
       "      <td>Clarius</td>\n",
       "    </tr>\n",
       "    <tr>\n",
       "      <th>2</th>\n",
       "      <td>2</td>\n",
       "      <td>Marcus</td>\n",
       "    </tr>\n",
       "    <tr>\n",
       "      <th>3</th>\n",
       "      <td>3</td>\n",
       "      <td>Philippus</td>\n",
       "    </tr>\n",
       "    <tr>\n",
       "      <th>4</th>\n",
       "      <td>4</td>\n",
       "      <td>Marcus</td>\n",
       "    </tr>\n",
       "  </tbody>\n",
       "</table>\n",
       "</div>"
      ],
      "text/plain": [
       "   id              author\n",
       "0   0  FerrumEffractarius\n",
       "1   1             Clarius\n",
       "2   2              Marcus\n",
       "3   3           Philippus\n",
       "4   4              Marcus"
      ]
     },
     "execution_count": 13,
     "metadata": {},
     "output_type": "execute_result"
    }
   ],
   "source": [
    "df_test = pd.read_csv(\"./input/sample_submission.csv\")\n",
    "df_test.head()"
   ]
  },
  {
   "cell_type": "markdown",
   "metadata": {},
   "source": [
    "## Vamos a entrenar algunos modelos"
   ]
  },
  {
   "cell_type": "code",
   "execution_count": 14,
   "metadata": {},
   "outputs": [
    {
     "name": "stdout",
     "output_type": "stream",
     "text": [
      "(9613, 10) (2404, 10) (9613,) (2404,)\n"
     ]
    }
   ],
   "source": [
    "from sklearn.model_selection import train_test_split\n",
    "\n",
    "y=data['author']\n",
    "c=list(data.columns)\n",
    "c.remove('author')\n",
    "X=data[c]\n",
    "\n",
    "\n",
    "X_train, X_test, y_train, y_test = train_test_split(X, y, test_size=0.2)\n",
    "print(X_train.shape, X_test.shape, y_train.shape, y_test.shape)"
   ]
  },
  {
   "cell_type": "code",
   "execution_count": 15,
   "metadata": {},
   "outputs": [],
   "source": [
    "from sklearn.model_selection import cross_val_score, KFold\n",
    "kf = KFold(n_splits=5, shuffle=True, random_state=11)"
   ]
  },
  {
   "cell_type": "code",
   "execution_count": 16,
   "metadata": {},
   "outputs": [
    {
     "name": "stdout",
     "output_type": "stream",
     "text": [
      "Training model: randomforest25\n",
      "Training model: randomforest250\n",
      "Training model: randomforest3000\n",
      "Training model: histboosting\n",
      "Training model: histboosting2\n",
      "Training model: tree\n",
      "Training model: bagging\n"
     ]
    },
    {
     "name": "stderr",
     "output_type": "stream",
     "text": [
      "/home/jose/.local/lib/python3.6/site-packages/sklearn/svm/base.py:193: FutureWarning: The default value of gamma will change from 'auto' to 'scale' in version 0.22 to account better for unscaled features. Set gamma explicitly to 'auto' or 'scale' to avoid this warning.\n",
      "  \"avoid this warning.\", FutureWarning)\n",
      "/home/jose/.local/lib/python3.6/site-packages/sklearn/svm/base.py:193: FutureWarning: The default value of gamma will change from 'auto' to 'scale' in version 0.22 to account better for unscaled features. Set gamma explicitly to 'auto' or 'scale' to avoid this warning.\n",
      "  \"avoid this warning.\", FutureWarning)\n",
      "/home/jose/.local/lib/python3.6/site-packages/sklearn/svm/base.py:193: FutureWarning: The default value of gamma will change from 'auto' to 'scale' in version 0.22 to account better for unscaled features. Set gamma explicitly to 'auto' or 'scale' to avoid this warning.\n",
      "  \"avoid this warning.\", FutureWarning)\n",
      "/home/jose/.local/lib/python3.6/site-packages/sklearn/svm/base.py:193: FutureWarning: The default value of gamma will change from 'auto' to 'scale' in version 0.22 to account better for unscaled features. Set gamma explicitly to 'auto' or 'scale' to avoid this warning.\n",
      "  \"avoid this warning.\", FutureWarning)\n",
      "/home/jose/.local/lib/python3.6/site-packages/sklearn/svm/base.py:193: FutureWarning: The default value of gamma will change from 'auto' to 'scale' in version 0.22 to account better for unscaled features. Set gamma explicitly to 'auto' or 'scale' to avoid this warning.\n",
      "  \"avoid this warning.\", FutureWarning)\n",
      "/home/jose/.local/lib/python3.6/site-packages/sklearn/svm/base.py:193: FutureWarning: The default value of gamma will change from 'auto' to 'scale' in version 0.22 to account better for unscaled features. Set gamma explicitly to 'auto' or 'scale' to avoid this warning.\n",
      "  \"avoid this warning.\", FutureWarning)\n",
      "/home/jose/.local/lib/python3.6/site-packages/sklearn/svm/base.py:193: FutureWarning: The default value of gamma will change from 'auto' to 'scale' in version 0.22 to account better for unscaled features. Set gamma explicitly to 'auto' or 'scale' to avoid this warning.\n",
      "  \"avoid this warning.\", FutureWarning)\n",
      "/home/jose/.local/lib/python3.6/site-packages/sklearn/svm/base.py:193: FutureWarning: The default value of gamma will change from 'auto' to 'scale' in version 0.22 to account better for unscaled features. Set gamma explicitly to 'auto' or 'scale' to avoid this warning.\n",
      "  \"avoid this warning.\", FutureWarning)\n",
      "/home/jose/.local/lib/python3.6/site-packages/sklearn/svm/base.py:193: FutureWarning: The default value of gamma will change from 'auto' to 'scale' in version 0.22 to account better for unscaled features. Set gamma explicitly to 'auto' or 'scale' to avoid this warning.\n",
      "  \"avoid this warning.\", FutureWarning)\n",
      "/home/jose/.local/lib/python3.6/site-packages/sklearn/svm/base.py:193: FutureWarning: The default value of gamma will change from 'auto' to 'scale' in version 0.22 to account better for unscaled features. Set gamma explicitly to 'auto' or 'scale' to avoid this warning.\n",
      "  \"avoid this warning.\", FutureWarning)\n"
     ]
    }
   ],
   "source": [
    "from sklearn.ensemble import RandomForestClassifier\n",
    "from sklearn.svm import SVC\n",
    "from sklearn.tree import DecisionTreeClassifier\n",
    "from sklearn.experimental import enable_hist_gradient_boosting\n",
    "from sklearn.ensemble import BaggingClassifier\n",
    "from sklearn.ensemble import HistGradientBoostingClassifier\n",
    "from sklearn.metrics import accuracy_score\n",
    "\n",
    "\n",
    "models = {\n",
    "    \"randomforest25\": RandomForestClassifier(n_estimators=25),\n",
    "    \"randomforest250\": RandomForestClassifier(n_estimators=250),\n",
    "    \"randomforest3000\": RandomForestClassifier(n_estimators=3000),\n",
    "    \"histboosting\" : HistGradientBoostingClassifier(learning_rate=0.2),\n",
    "    \"histboosting2\" : HistGradientBoostingClassifier(learning_rate=0.4),\n",
    "    \"tree\": DecisionTreeClassifier(),\n",
    "    \"bagging\" : BaggingClassifier(base_estimator=SVC(), n_estimators=10, random_state=0)\n",
    "}\n",
    "\n",
    "for modelName, model in models.items():\n",
    "    print(f\"Training model: {modelName}\")\n",
    "    model.fit(X_train, y_train)\n",
    "    \n"
   ]
  },
  {
   "cell_type": "markdown",
   "metadata": {},
   "source": [
    "## modelo randomforest25"
   ]
  },
  {
   "cell_type": "code",
   "execution_count": 29,
   "metadata": {},
   "outputs": [
    {
     "name": "stdout",
     "output_type": "stream",
     "text": [
      "Accuracy 0.9841930116472546\n"
     ]
    }
   ],
   "source": [
    "from sklearn.metrics import r2_score\n",
    "\n",
    "d_model= RandomForestClassifier(n_estimators=25)\n",
    "histb = d_model.fit(X_train,y_train)\n",
    "\n",
    "pr_pred = histb.predict(X_test)\n",
    "print(\"Accuracy\",accuracy_score(y_test, pr_pred))"
   ]
  },
  {
   "cell_type": "code",
   "execution_count": 30,
   "metadata": {},
   "outputs": [
    {
     "data": {
      "text/html": [
       "<div>\n",
       "<style scoped>\n",
       "    .dataframe tbody tr th:only-of-type {\n",
       "        vertical-align: middle;\n",
       "    }\n",
       "\n",
       "    .dataframe tbody tr th {\n",
       "        vertical-align: top;\n",
       "    }\n",
       "\n",
       "    .dataframe thead th {\n",
       "        text-align: right;\n",
       "    }\n",
       "</style>\n",
       "<table border=\"1\" class=\"dataframe\">\n",
       "  <thead>\n",
       "    <tr style=\"text-align: right;\">\n",
       "      <th></th>\n",
       "      <th>id</th>\n",
       "      <th>author</th>\n",
       "    </tr>\n",
       "  </thead>\n",
       "  <tbody>\n",
       "    <tr>\n",
       "      <th>0</th>\n",
       "      <td>0</td>\n",
       "      <td>FerrumEffractarius</td>\n",
       "    </tr>\n",
       "    <tr>\n",
       "      <th>1</th>\n",
       "      <td>1</td>\n",
       "      <td>Clarius</td>\n",
       "    </tr>\n",
       "    <tr>\n",
       "      <th>2</th>\n",
       "      <td>2</td>\n",
       "      <td>Marcus</td>\n",
       "    </tr>\n",
       "    <tr>\n",
       "      <th>3</th>\n",
       "      <td>3</td>\n",
       "      <td>Philippus</td>\n",
       "    </tr>\n",
       "    <tr>\n",
       "      <th>4</th>\n",
       "      <td>4</td>\n",
       "      <td>Marcus</td>\n",
       "    </tr>\n",
       "  </tbody>\n",
       "</table>\n",
       "</div>"
      ],
      "text/plain": [
       "   id              author\n",
       "0   0  FerrumEffractarius\n",
       "1   1             Clarius\n",
       "2   2              Marcus\n",
       "3   3           Philippus\n",
       "4   4              Marcus"
      ]
     },
     "execution_count": 30,
     "metadata": {},
     "output_type": "execute_result"
    }
   ],
   "source": [
    "df_test.head()"
   ]
  },
  {
   "cell_type": "code",
   "execution_count": 31,
   "metadata": {},
   "outputs": [
    {
     "data": {
      "text/plain": [
       "0       FerrumEffractarius\n",
       "1                  Clarius\n",
       "2                   Marcus\n",
       "3                Philippus\n",
       "4                   Marcus\n",
       "               ...        \n",
       "8007              Ubuntius\n",
       "8008             Blanquius\n",
       "8009               Clarius\n",
       "8010               Clarius\n",
       "8011            Paithonius\n",
       "Name: author, Length: 8012, dtype: object"
      ]
     },
     "execution_count": 31,
     "metadata": {},
     "output_type": "execute_result"
    }
   ],
   "source": [
    "subm = df_test[\"author\"]\n",
    "subm"
   ]
  },
  {
   "cell_type": "code",
   "execution_count": 32,
   "metadata": {},
   "outputs": [],
   "source": [
    "subm.to_csv(\"./output/randomforest25.csv\")\n"
   ]
  },
  {
   "cell_type": "markdown",
   "metadata": {},
   "source": [
    "## modelo randomforest250"
   ]
  },
  {
   "cell_type": "code",
   "execution_count": 33,
   "metadata": {},
   "outputs": [
    {
     "name": "stdout",
     "output_type": "stream",
     "text": [
      "Accuracy 0.9833610648918469\n"
     ]
    }
   ],
   "source": [
    "d_model= RandomForestClassifier(n_estimators=250)\n",
    "histb = d_model.fit(X_train,y_train)\n",
    "\n",
    "pr_pred = histb.predict(X_test)\n",
    "print(\"Accuracy\",accuracy_score(y_test, pr_pred))"
   ]
  },
  {
   "cell_type": "code",
   "execution_count": 34,
   "metadata": {},
   "outputs": [
    {
     "data": {
      "text/plain": [
       "0       FerrumEffractarius\n",
       "1                  Clarius\n",
       "2                   Marcus\n",
       "3                Philippus\n",
       "4                   Marcus\n",
       "               ...        \n",
       "8007              Ubuntius\n",
       "8008             Blanquius\n",
       "8009               Clarius\n",
       "8010               Clarius\n",
       "8011            Paithonius\n",
       "Name: author, Length: 8012, dtype: object"
      ]
     },
     "execution_count": 34,
     "metadata": {},
     "output_type": "execute_result"
    }
   ],
   "source": [
    "subm = df_test[\"author\"]\n",
    "subm"
   ]
  },
  {
   "cell_type": "code",
   "execution_count": 35,
   "metadata": {},
   "outputs": [],
   "source": [
    "subm.to_csv(\"./output/randomforest250.csv\")"
   ]
  },
  {
   "cell_type": "markdown",
   "metadata": {},
   "source": [
    "## modelo randomforest3000"
   ]
  },
  {
   "cell_type": "code",
   "execution_count": 36,
   "metadata": {},
   "outputs": [
    {
     "name": "stdout",
     "output_type": "stream",
     "text": [
      "Accuracy 0.9829450915141431\n"
     ]
    }
   ],
   "source": [
    "d_model= RandomForestClassifier(n_estimators=3000)\n",
    "histb = d_model.fit(X_train,y_train)\n",
    "\n",
    "pr_pred = histb.predict(X_test)\n",
    "print(\"Accuracy\",accuracy_score(y_test, pr_pred))"
   ]
  },
  {
   "cell_type": "code",
   "execution_count": 37,
   "metadata": {},
   "outputs": [
    {
     "data": {
      "text/plain": [
       "0       FerrumEffractarius\n",
       "1                  Clarius\n",
       "2                   Marcus\n",
       "3                Philippus\n",
       "4                   Marcus\n",
       "               ...        \n",
       "8007              Ubuntius\n",
       "8008             Blanquius\n",
       "8009               Clarius\n",
       "8010               Clarius\n",
       "8011            Paithonius\n",
       "Name: author, Length: 8012, dtype: object"
      ]
     },
     "execution_count": 37,
     "metadata": {},
     "output_type": "execute_result"
    }
   ],
   "source": [
    "subm = df_test[\"author\"]\n",
    "subm"
   ]
  },
  {
   "cell_type": "code",
   "execution_count": 38,
   "metadata": {},
   "outputs": [],
   "source": [
    "subm.to_csv(\"./output/randomforest3000.csv\")"
   ]
  },
  {
   "cell_type": "markdown",
   "metadata": {},
   "source": [
    "## modelo histboosting"
   ]
  },
  {
   "cell_type": "code",
   "execution_count": 39,
   "metadata": {},
   "outputs": [
    {
     "name": "stdout",
     "output_type": "stream",
     "text": [
      "Accuracy 1.0\n"
     ]
    }
   ],
   "source": [
    "d_model= HistGradientBoostingClassifier(learning_rate=0.2)\n",
    "histb = d_model.fit(X_train,y_train)\n",
    " \n",
    "pr_pred = histb.predict(X_test)\n",
    "print(\"Accuracy\",accuracy_score(y_test, pr_pred))"
   ]
  },
  {
   "cell_type": "code",
   "execution_count": 41,
   "metadata": {},
   "outputs": [
    {
     "data": {
      "text/plain": [
       "0       FerrumEffractarius\n",
       "1                  Clarius\n",
       "2                   Marcus\n",
       "3                Philippus\n",
       "4                   Marcus\n",
       "               ...        \n",
       "8007              Ubuntius\n",
       "8008             Blanquius\n",
       "8009               Clarius\n",
       "8010               Clarius\n",
       "8011            Paithonius\n",
       "Name: author, Length: 8012, dtype: object"
      ]
     },
     "execution_count": 41,
     "metadata": {},
     "output_type": "execute_result"
    }
   ],
   "source": [
    "subm = df_test[\"author\"]\n",
    "subm"
   ]
  },
  {
   "cell_type": "code",
   "execution_count": 42,
   "metadata": {},
   "outputs": [],
   "source": [
    "subm.to_csv(\"./output/histboosting.csv\")"
   ]
  },
  {
   "cell_type": "markdown",
   "metadata": {},
   "source": [
    "## modelo histboosting2"
   ]
  },
  {
   "cell_type": "code",
   "execution_count": 43,
   "metadata": {},
   "outputs": [
    {
     "name": "stdout",
     "output_type": "stream",
     "text": [
      "Accuracy 1.0\n"
     ]
    }
   ],
   "source": [
    "d_model= HistGradientBoostingClassifier(learning_rate=0.15)\n",
    "histb = d_model.fit(X_train,y_train)\n",
    "\n",
    "pr_pred = histb.predict(X_test)\n",
    "print(\"Accuracy\",accuracy_score(y_test, pr_pred))"
   ]
  },
  {
   "cell_type": "code",
   "execution_count": 44,
   "metadata": {},
   "outputs": [
    {
     "data": {
      "text/plain": [
       "0       FerrumEffractarius\n",
       "1                  Clarius\n",
       "2                   Marcus\n",
       "3                Philippus\n",
       "4                   Marcus\n",
       "               ...        \n",
       "8007              Ubuntius\n",
       "8008             Blanquius\n",
       "8009               Clarius\n",
       "8010               Clarius\n",
       "8011            Paithonius\n",
       "Name: author, Length: 8012, dtype: object"
      ]
     },
     "execution_count": 44,
     "metadata": {},
     "output_type": "execute_result"
    }
   ],
   "source": [
    "subm = df_test[\"author\"]\n",
    "subm"
   ]
  },
  {
   "cell_type": "code",
   "execution_count": 45,
   "metadata": {},
   "outputs": [],
   "source": [
    "subm.to_csv(\"./output/histboosting2.csv\")"
   ]
  },
  {
   "cell_type": "markdown",
   "metadata": {},
   "source": [
    "## modelo tree"
   ]
  },
  {
   "cell_type": "code",
   "execution_count": 46,
   "metadata": {},
   "outputs": [
    {
     "name": "stdout",
     "output_type": "stream",
     "text": [
      "Accuracy 0.971297836938436\n"
     ]
    }
   ],
   "source": [
    "d_model= DecisionTreeClassifier()\n",
    "histb = d_model.fit(X_train,y_train)\n",
    "\n",
    "pr_pred = histb.predict(X_test)\n",
    "print(\"Accuracy\",accuracy_score(y_test, pr_pred))"
   ]
  },
  {
   "cell_type": "code",
   "execution_count": 47,
   "metadata": {},
   "outputs": [
    {
     "data": {
      "text/plain": [
       "0       FerrumEffractarius\n",
       "1                  Clarius\n",
       "2                   Marcus\n",
       "3                Philippus\n",
       "4                   Marcus\n",
       "               ...        \n",
       "8007              Ubuntius\n",
       "8008             Blanquius\n",
       "8009               Clarius\n",
       "8010               Clarius\n",
       "8011            Paithonius\n",
       "Name: author, Length: 8012, dtype: object"
      ]
     },
     "execution_count": 47,
     "metadata": {},
     "output_type": "execute_result"
    }
   ],
   "source": [
    "subm = df_test[\"author\"]\n",
    "subm"
   ]
  },
  {
   "cell_type": "code",
   "execution_count": 48,
   "metadata": {},
   "outputs": [],
   "source": [
    "subm.to_csv(\"./output/tree.csv\")"
   ]
  }
 ],
 "metadata": {
  "kernelspec": {
   "display_name": "Python 3",
   "language": "python",
   "name": "python3"
  },
  "language_info": {
   "codemirror_mode": {
    "name": "ipython",
    "version": 3
   },
   "file_extension": ".py",
   "mimetype": "text/x-python",
   "name": "python",
   "nbconvert_exporter": "python",
   "pygments_lexer": "ipython3",
   "version": "3.6.9"
  }
 },
 "nbformat": 4,
 "nbformat_minor": 2
}
